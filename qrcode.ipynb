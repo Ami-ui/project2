{
 "cells": [
  {
   "cell_type": "code",
   "execution_count": null,
   "id": "e000bcbe",
   "metadata": {},
   "outputs": [],
   "source": [
    "# NAME: "
   ]
  },
  {
   "cell_type": "code",
   "execution_count": null,
   "id": "0e5b9474",
   "metadata": {},
   "outputs": [],
   "source": [
    "# INDEX NUMBER"
   ]
  },
  {
   "cell_type": "code",
   "execution_count": null,
   "id": "1acfccc4",
   "metadata": {},
   "outputs": [],
   "source": [
    "# DEPARTMENT:"
   ]
  },
  {
   "cell_type": "code",
   "execution_count": null,
   "id": "a350c895",
   "metadata": {},
   "outputs": [],
   "source": [
    "from PIL import Image"
   ]
  },
  {
   "cell_type": "code",
   "execution_count": 2,
   "id": "8442274a",
   "metadata": {},
   "outputs": [],
   "source": [
    "import PySimpleGUI as sg"
   ]
  },
  {
   "cell_type": "code",
   "execution_count": 3,
   "id": "9c9014f0",
   "metadata": {},
   "outputs": [],
   "source": [
    "import qrcode\n"
   ]
  },
  {
   "cell_type": "code",
   "execution_count": 4,
   "id": "2eaad34e",
   "metadata": {},
   "outputs": [],
   "source": [
    "#Defining the properties of the qrcode"
   ]
  },
  {
   "cell_type": "code",
   "execution_count": 5,
   "id": "9ef92899",
   "metadata": {},
   "outputs": [],
   "source": [
    "def generate_qr_code(data):\n",
    "    qr = qrcode.QRCode(\n",
    "         version=None,\n",
    "         error_correction=qrcode.constants.ERROR_CORRECT_L,\n",
    "         box_size=10,\n",
    "         border=7,\n",
    "    )\n",
    "    qr.add_data(data)\n",
    "    qr.make(fit=True)\n",
    "\n",
    "    img = qr.make_image(fill_color=\"green\", back_color=\"gold\")\n",
    "    return img\n",
    "\n",
    "\n",
    "\n",
    "\n",
    "\n"
   ]
  },
  {
   "cell_type": "code",
   "execution_count": 6,
   "id": "5c864d01",
   "metadata": {},
   "outputs": [],
   "source": [
    "# Get input from user"
   ]
  },
  {
   "cell_type": "code",
   "execution_count": null,
   "id": "12116351",
   "metadata": {},
   "outputs": [],
   "source": [
    "# Save QR code image to file"
   ]
  },
  {
   "cell_type": "code",
   "execution_count": null,
   "id": "104ba9fa",
   "metadata": {},
   "outputs": [],
   "source": [
    "data = input(\"Enter data to encode as QR code: \")\n",
    "file_name = input(\"Enter output file name (without extension): \")\n"
   ]
  },
  {
   "cell_type": "code",
   "execution_count": null,
   "id": "9ffb8643",
   "metadata": {},
   "outputs": [],
   "source": [
    "# Generate QR code image"
   ]
  },
  {
   "cell_type": "code",
   "execution_count": null,
   "id": "641276c5",
   "metadata": {},
   "outputs": [],
   "source": [
    "qr_code = generate_qr_code(data)\n",
    "qr_code.save(f\"{file_name}.png\")\n",
    "qr_code.show()\n"
   ]
  },
  {
   "cell_type": "code",
   "execution_count": null,
   "id": "ba081c73",
   "metadata": {},
   "outputs": [],
   "source": [
    "#This PROGRAM uses the input() function to get input from the user and passes it to the generate_qr_code() function to generate the QR code image. It then prompts the user to enter a file name for the output image and saves the image to a PNG file using the entered name."
   ]
  },
  {
   "cell_type": "code",
   "execution_count": null,
   "id": "bd4f5288",
   "metadata": {},
   "outputs": [],
   "source": []
  }
 ],
 "metadata": {
  "kernelspec": {
   "display_name": "Python 3 (ipykernel)",
   "language": "python",
   "name": "python3"
  },
  "language_info": {
   "codemirror_mode": {
    "name": "ipython",
    "version": 3
   },
   "file_extension": ".py",
   "mimetype": "text/x-python",
   "name": "python",
   "nbconvert_exporter": "python",
   "pygments_lexer": "ipython3",
   "version": "3.11.1"
  }
 },
 "nbformat": 4,
 "nbformat_minor": 5
}

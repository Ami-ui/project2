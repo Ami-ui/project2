{
 "cells": [
  {
   "cell_type": "code",
   "execution_count": 17,
   "id": "de7fcfe7",
   "metadata": {},
   "outputs": [],
   "source": [
    "# NAME: "
   ]
  },
  {
   "cell_type": "code",
   "execution_count": 18,
   "id": "add33be1",
   "metadata": {},
   "outputs": [],
   "source": [
    "# INDEX NUMBER:"
   ]
  },
  {
   "cell_type": "code",
   "execution_count": 19,
   "id": "f45842d7",
   "metadata": {},
   "outputs": [],
   "source": [
    "# DEPARTMENT:"
   ]
  },
  {
   "cell_type": "code",
   "execution_count": 2,
   "id": "1d5a4cd6",
   "metadata": {},
   "outputs": [],
   "source": [
    "import PySimpleGUI as sg\n"
   ]
  },
  {
   "cell_type": "code",
   "execution_count": 3,
   "id": "2ce39323",
   "metadata": {},
   "outputs": [],
   "source": [
    "import pyttsx3\n"
   ]
  },
  {
   "cell_type": "code",
   "execution_count": 3,
   "id": "14764751",
   "metadata": {},
   "outputs": [],
   "source": [
    "#Create an instance of the pyttsx3"
   ]
  },
  {
   "cell_type": "code",
   "execution_count": 4,
   "id": "10be105a",
   "metadata": {},
   "outputs": [],
   "source": [
    "engine = pyttsx3.init()\n"
   ]
  },
  {
   "cell_type": "code",
   "execution_count": 5,
   "id": "161e0866",
   "metadata": {},
   "outputs": [],
   "source": [
    "#Defining the layout of the GUI interface"
   ]
  },
  {
   "cell_type": "code",
   "execution_count": 6,
   "id": "ff595c7b",
   "metadata": {},
   "outputs": [],
   "source": [
    "layout = [[sg.Text(\"Enter text to be spoken:\"), sg.InputText(key=\"-INPUT-\")],\n",
    "          [sg.Text(\"Select voice:\"), sg.Combo([\"Male\", \"Female\"], default_value=\"Male\", key=\"-VOICE-\")],\n",
    "          [sg.Button(\"Speak\", button_color=(\"green\", \"yellow\")), sg.Button(\"Exit\", button_color=(\"white\", \"red\"))]]\n"
   ]
  },
  {
   "cell_type": "code",
   "execution_count": 7,
   "id": "8066a1f2",
   "metadata": {},
   "outputs": [],
   "source": [
    "#Setting the windpow background color and font"
   ]
  },
  {
   "cell_type": "code",
   "execution_count": 8,
   "id": "6c344cd7",
   "metadata": {},
   "outputs": [
    {
     "data": {
      "text/plain": [
       "True"
      ]
     },
     "execution_count": 8,
     "metadata": {},
     "output_type": "execute_result"
    }
   ],
   "source": [
    "sg.theme('LightBlue')\n",
    "sg.set_options(font=(\"Helvetica\", 12))\n"
   ]
  },
  {
   "cell_type": "code",
   "execution_count": 9,
   "id": "a9eeed95",
   "metadata": {},
   "outputs": [],
   "source": [
    "# Creating the PySimpleGUI window from the layout"
   ]
  },
  {
   "cell_type": "code",
   "execution_count": 10,
   "id": "55958efa",
   "metadata": {},
   "outputs": [],
   "source": [
    "window = sg.Window(\"Text to Speech App\", layout)\n",
    "\n"
   ]
  },
  {
   "cell_type": "code",
   "execution_count": 11,
   "id": "0332de5d",
   "metadata": {},
   "outputs": [],
   "source": [
    "#Create the PySimpleGUI event loop"
   ]
  },
  {
   "cell_type": "code",
   "execution_count": 12,
   "id": "2f706722",
   "metadata": {},
   "outputs": [],
   "source": [
    "\n",
    "while True:\n",
    "    event, values = window.read()\n",
    "    if event in (sg.WIN_CLOSED, \"Exit\"):\n",
    "        break\n",
    "    if event == \"Speak\":\n",
    "        # Get the input text and selected voice\n",
    "        text = values[\"-INPUT-\"]\n",
    "        voice = values[\"-VOICE-\"]\n",
    "        \n"
   ]
  },
  {
   "cell_type": "code",
   "execution_count": 13,
   "id": "650fe29f",
   "metadata": {},
   "outputs": [],
   "source": [
    "#Setting trhe voice of the pyttsx3"
   ]
  },
  {
   "cell_type": "code",
   "execution_count": 14,
   "id": "3033a371",
   "metadata": {},
   "outputs": [],
   "source": [
    "if voice == \"Male\":\n",
    "    engine.setProperty(\"voice\", \"english+m3\")\n",
    "else:\n",
    "    engine.setProperty(\"voice\", \"english+f3\")\n"
   ]
  },
  {
   "cell_type": "code",
   "execution_count": 15,
   "id": "cf54981d",
   "metadata": {},
   "outputs": [],
   "source": [
    "#Converting text to speech using the pyttsx3 engine"
   ]
  },
  {
   "cell_type": "code",
   "execution_count": 16,
   "id": "0671fa93",
   "metadata": {},
   "outputs": [],
   "source": [
    "engine.say(text)\n",
    "engine.runAndWait()\n",
    "        \n",
    "\n",
    "\n",
    "\n"
   ]
  },
  {
   "cell_type": "code",
   "execution_count": null,
   "id": "1cf865dd",
   "metadata": {},
   "outputs": [],
   "source": [
    "#Close the PySimpleGUI window and cleanup the pyttsx3 engine"
   ]
  },
  {
   "cell_type": "code",
   "execution_count": null,
   "id": "f7f4b46d",
   "metadata": {},
   "outputs": [],
   "source": [
    "window.close()\n",
    "engine.stop()\n"
   ]
  },
  {
   "cell_type": "code",
   "execution_count": null,
   "id": "5ddca4a5",
   "metadata": {},
   "outputs": [],
   "source": []
  },
  {
   "cell_type": "code",
   "execution_count": null,
   "id": "68912702",
   "metadata": {},
   "outputs": [],
   "source": []
  },
  {
   "cell_type": "code",
   "execution_count": null,
   "id": "0ccf3c88",
   "metadata": {},
   "outputs": [],
   "source": []
  },
  {
   "cell_type": "code",
   "execution_count": null,
   "id": "e7b001d8",
   "metadata": {},
   "outputs": [],
   "source": []
  }
 ],
 "metadata": {
  "kernelspec": {
   "display_name": "Python 3 (ipykernel)",
   "language": "python",
   "name": "python3"
  },
  "language_info": {
   "codemirror_mode": {
    "name": "ipython",
    "version": 3
   },
   "file_extension": ".py",
   "mimetype": "text/x-python",
   "name": "python",
   "nbconvert_exporter": "python",
   "pygments_lexer": "ipython3",
   "version": "3.11.1"
  }
 },
 "nbformat": 4,
 "nbformat_minor": 5
}
